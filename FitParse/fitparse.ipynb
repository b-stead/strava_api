{
 "cells": [
  {
   "cell_type": "code",
   "execution_count": 21,
   "metadata": {},
   "outputs": [],
   "source": [
    "from fitparse import FitFile\n",
    "import matplotlib.pyplot as plt\n",
    "import pandas as pd\n",
    "\n",
    "fit_file = FitFile('fittest.fit')\n"
   ]
  },
  {
   "cell_type": "code",
   "execution_count": 86,
   "metadata": {},
   "outputs": [
    {
     "data": {
      "text/html": [
       "<div>\n",
       "<style scoped>\n",
       "    .dataframe tbody tr th:only-of-type {\n",
       "        vertical-align: middle;\n",
       "    }\n",
       "\n",
       "    .dataframe tbody tr th {\n",
       "        vertical-align: top;\n",
       "    }\n",
       "\n",
       "    .dataframe thead th {\n",
       "        text-align: right;\n",
       "    }\n",
       "</style>\n",
       "<table border=\"1\" class=\"dataframe\">\n",
       "  <thead>\n",
       "    <tr style=\"text-align: right;\">\n",
       "      <th></th>\n",
       "      <th>timestamp</th>\n",
       "      <th>power</th>\n",
       "      <th>heart_rate</th>\n",
       "      <th>cadence</th>\n",
       "    </tr>\n",
       "  </thead>\n",
       "  <tbody>\n",
       "    <tr>\n",
       "      <th>3576</th>\n",
       "      <td>2023-09-28 13:23:06</td>\n",
       "      <td>52.0</td>\n",
       "      <td>127.0</td>\n",
       "      <td>51.0</td>\n",
       "    </tr>\n",
       "    <tr>\n",
       "      <th>3577</th>\n",
       "      <td>2023-09-28 13:23:07</td>\n",
       "      <td>49.0</td>\n",
       "      <td>126.0</td>\n",
       "      <td>33.0</td>\n",
       "    </tr>\n",
       "    <tr>\n",
       "      <th>3578</th>\n",
       "      <td>2023-09-28 13:23:08</td>\n",
       "      <td>45.0</td>\n",
       "      <td>126.0</td>\n",
       "      <td>15.0</td>\n",
       "    </tr>\n",
       "    <tr>\n",
       "      <th>3579</th>\n",
       "      <td>2023-09-28 13:23:09</td>\n",
       "      <td>0.0</td>\n",
       "      <td>125.0</td>\n",
       "      <td>0.0</td>\n",
       "    </tr>\n",
       "    <tr>\n",
       "      <th>3580</th>\n",
       "      <td>2023-09-28 13:23:10</td>\n",
       "      <td>0.0</td>\n",
       "      <td>125.0</td>\n",
       "      <td>0.0</td>\n",
       "    </tr>\n",
       "  </tbody>\n",
       "</table>\n",
       "</div>"
      ],
      "text/plain": [
       "               timestamp  power  heart_rate  cadence\n",
       "3576 2023-09-28 13:23:06   52.0       127.0     51.0\n",
       "3577 2023-09-28 13:23:07   49.0       126.0     33.0\n",
       "3578 2023-09-28 13:23:08   45.0       126.0     15.0\n",
       "3579 2023-09-28 13:23:09    0.0       125.0      0.0\n",
       "3580 2023-09-28 13:23:10    0.0       125.0      0.0"
      ]
     },
     "execution_count": 86,
     "metadata": {},
     "output_type": "execute_result"
    }
   ],
   "source": [
    "power = []\n",
    "heart_rate = []\n",
    "time = []\n",
    "cadence = []\n",
    "for record in fit_file.get_messages(\"record\"):\n",
    "    # Records can contain multiple pieces of data (ex: timestamp, latitude, longitude, etc)\n",
    "    for data in record:\n",
    "        # Print the name and value of the data (and the units if it has any)\n",
    "        if data.name == 'power':\n",
    "            power.append(data.value)\n",
    "\n",
    "        elif data.name == 'heart_rate':\n",
    "            heart_rate.append(data.value)\n",
    "\n",
    "        elif data.name == 'timestamp':\n",
    "            time.append(data.value)\n",
    "\n",
    "        elif data.name == 'cadence':\n",
    "            cadence.append(data.value)\n",
    "\n",
    "df = pd.DataFrame(list(zip(time, power, heart_rate, cadence)),\n",
    "               columns =['timestamp', 'power', 'heart_rate', 'cadence'])\n",
    "\n",
    "#df.head()\n",
    "\n",
    "\n",
    "#get max/min\n",
    "peak_p = max(power)\n",
    "peak_h = max(heart_rate)\n",
    "peak_cad = max(cadence)\n",
    "min_p = min(power)\n",
    "min_h = min(heart_rate)\n",
    "min_cad = min(cadence)\n",
    "\n",
    "\n",
    "min_time = df['timestamp'].min()\n",
    "max_time = df['timestamp'].max()\n",
    "\n",
    "#get length of session (seconds)\n",
    "tot_time = (max_time - min_time).total_seconds()\n",
    "\n",
    "# Find the minimum and maximum timestamps in your existing DataFrame\n",
    "min_time = df['timestamp'].min()\n",
    "max_time = df['timestamp'].max()\n",
    "\n",
    "# Generate a new DataFrame with evenly spaced 1-second intervals\n",
    "time_range = pd.date_range(start=min_time, end=max_time, freq='1S')\n",
    "new_df = pd.DataFrame({'timestamp': time_range})\n",
    "\n",
    "# Merge (join) the new DataFrame with your existing DataFrame based on the datetime column\n",
    "merged_df = pd.merge(new_df, df, on='timestamp', how='left')\n",
    "\n",
    "# Fill any missing values with appropriate defaults (e.g., NaN for power and heart_rate)\n",
    "merged_df.fillna({'power': 0, 'heart_rate': 0}, inplace=True)\n",
    "merged_df.tail()\n"
   ]
  },
  {
   "cell_type": "code",
   "execution_count": 87,
   "metadata": {},
   "outputs": [],
   "source": [
    "# Calculate rolling averages for power and heart_rate at various time intervals\n",
    "rolling_intervals = [5, 10, 15, 30, 60, 180, 300, 600, 1200, 2400, 3600, 5400, 7200, 10800]\n",
    "result = {}\n",
    "\n",
    "for interval in rolling_intervals:\n",
    "    if interval <= tot_time:\n",
    "        rolling_window = pd.Timedelta(seconds=interval)\n",
    "        rolling_averages = []\n",
    "\n",
    "        for i, row in merged_df.iterrows():\n",
    "            end_time = row['timestamp']\n",
    "            start_time = end_time - rolling_window\n",
    "            data_within_window = merged_df[(merged_df['timestamp'] >= start_time) & (merged_df['timestamp'] <= end_time)]\n",
    "            power_avg = data_within_window['power'].mean()\n",
    "            heart_rate_avg = data_within_window['heart_rate'].mean()\n",
    "            rolling_averages.append((start_time, end_time, power_avg, heart_rate_avg))\n",
    "\n",
    "        result[f'power_rolling_{interval}s'] = rolling_averages\n",
    "\n",
    "# Print the result\n",
    "#print(result)\n",
    "#for key, values in result.items():\n",
    " #   print(key)\n",
    "  #  print(pd.DataFrame(values, columns=['Start Time', 'End Time', 'Power Avg', 'Heart Rate Avg']))"
   ]
  },
  {
   "cell_type": "code",
   "execution_count": 89,
   "metadata": {},
   "outputs": [],
   "source": [
    "# Loop through the keys in the result dictionary\n",
    "for key, values in result.items():\n",
    "    max_power = max(values, key=lambda x: x[2])[2]  # Get the maximum power value\n",
    "    max_heart_rate = max(values, key=lambda x: x[3])[3]  # Get the maximum heart rate value\n",
    "    \n",
    "    #print(f'Key: {key}')\n",
    "    #print(f'Max Power: {max_power}')\n",
    "    #print(f'Max Heart Rate: {max_heart_rate}')"
   ]
  },
  {
   "cell_type": "code",
   "execution_count": 71,
   "metadata": {},
   "outputs": [
    {
     "data": {
      "text/plain": [
       "datetime.timedelta(seconds=3580)"
      ]
     },
     "execution_count": 71,
     "metadata": {},
     "output_type": "execute_result"
    }
   ],
   "source": [
    "tot_time"
   ]
  },
  {
   "cell_type": "code",
   "execution_count": null,
   "metadata": {},
   "outputs": [],
   "source": [
    "x = []\n",
    "for i in range(len(heart_rate)):\n",
    "  x.append(i)\n",
    "\n",
    "plt.bar(x, heart_rate)\n",
    "plt.show()"
   ]
  }
 ],
 "metadata": {
  "kernelspec": {
   "display_name": "venv",
   "language": "python",
   "name": "python3"
  },
  "language_info": {
   "codemirror_mode": {
    "name": "ipython",
    "version": 3
   },
   "file_extension": ".py",
   "mimetype": "text/x-python",
   "name": "python",
   "nbconvert_exporter": "python",
   "pygments_lexer": "ipython3",
   "version": "3.11.5"
  },
  "orig_nbformat": 4
 },
 "nbformat": 4,
 "nbformat_minor": 2
}
